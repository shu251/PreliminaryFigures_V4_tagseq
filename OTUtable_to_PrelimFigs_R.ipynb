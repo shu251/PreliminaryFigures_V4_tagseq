{
 "cells": [
  {
   "cell_type": "markdown",
   "metadata": {},
   "source": [
    "## Take OTU table, QC, generate preliminary figures\n",
    "#### Last updated 06-26-2017 Sarah K. Hu"
   ]
  },
  {
   "cell_type": "code",
   "execution_count": null,
   "metadata": {
    "collapsed": false
   },
   "outputs": [],
   "source": [
    "#Load required libraries\n",
    "library(reshape2)\n",
    "library(ggplot2)\n",
    "library(vegan)\n",
    "library(plyr)"
   ]
  },
  {
   "cell_type": "code",
   "execution_count": null,
   "metadata": {
    "collapsed": false
   },
   "outputs": [],
   "source": [
    "#Import OTU table. Make sure heading looks good.\n",
    "count<-read.table('V4_OTUtable_test.txt', sep=\"\\t\",header=TRUE)\n",
    "head(count) #make sure samples are column names and OTU.IDs (from PR2) are row names\n",
    "dim(count) #V4_OTUtable_test.txt should be 1998 rows and 7 columns\n"
   ]
  },
  {
   "cell_type": "code",
   "execution_count": null,
   "metadata": {
    "collapsed": false
   },
   "outputs": [],
   "source": [
    "##Get quick stats of OTU results\n",
    "length(count$OTU.ID) #Total number of OTUs generated\n",
    "colsum<-apply(count[2:5],2,sum) #Colums 2:5 are my sample colums\n",
    "colsum #number of sequences per sample"
   ]
  },
  {
   "cell_type": "code",
   "execution_count": null,
   "metadata": {
    "collapsed": false
   },
   "outputs": [],
   "source": [
    "##Filter out OTUs with only 1 sequence, singletons\n",
    "rowsum<-apply(count[2:6],1,sum) #remove global singletons.\n",
    "count.no1 = count[ rowsum>1, ]  #count.no1 = OTU table without global singletons\n",
    "dim(count)[1] - dim(count.no1)[1] #Outputs the number of OTUs (total) lost in this step"
   ]
  },
  {
   "cell_type": "markdown",
   "metadata": {},
   "source": [
    "## Barplot distribution of OTU size per sample"
   ]
  },
  {
   "cell_type": "code",
   "execution_count": null,
   "metadata": {
    "collapsed": false
   },
   "outputs": [],
   "source": [
    "#Isolate only count colums\n",
    "counts_only<-count.no1[2:6]\n",
    "seq_total<-apply(counts_only,2,sum) #number of sequences per sample\n",
    "OTU_count<-colSums(counts_only>0) #total number of OTUs\n",
    "OTU_single<-colSums(counts_only==1) #Number of singleton OTUs\n",
    "OTU_double<-colSums(counts_only==2) #Number of doubleton OTUs\n",
    "OTU_else<-colSums(counts_only>2) #Number of OTUs with more than 2 sequences\n",
    "\n",
    "sample_info<-data.frame(seq_total,OTU_count,OTU_single,OTU_double,OTU_else)# Compile\n",
    "head(sample_info) #dataframe with OTU stats per sample\n",
    "# write.csv(sample_info, file=\"OTUstats.csv\") #Option to write out to table"
   ]
  },
  {
   "cell_type": "code",
   "execution_count": null,
   "metadata": {
    "collapsed": false
   },
   "outputs": [],
   "source": [
    "#Plot it\n",
    "sample_info$samples<-row.names(sample_info)\n",
    "allM<-melt(sample_info) #Melt to long format\n",
    "allM$Figure<-\"Sequences\"\n",
    "allM$Figure[allM$variable == \"OTU_count\"]<-\"Total OTUs\"\n",
    "otudist<-c(\"OTU_single\", \"OTU_double\", \"OTU_else\")\n",
    "allM$Figure[allM$variable %in% otudist]<-\"Breakdown of OTUs\"\n",
    "#head(allM)\n"
   ]
  },
  {
   "cell_type": "code",
   "execution_count": null,
   "metadata": {
    "collapsed": false
   },
   "outputs": [],
   "source": [
    "#Basic bar plot\n",
    "bar_stats<- ggplot(allM, aes(x=samples, y=value, fill=variable))+geom_bar(stat=\"identity\",position=\"stack\",color=\"black\")+theme_bw()+theme(axis.text.x = element_text(angle = 90,hjust=1,vjust=0.5,size=8),axis.text.y=element_text(size=12),legend.position = \"top\")"
   ]
  },
  {
   "cell_type": "code",
   "execution_count": null,
   "metadata": {
    "collapsed": false
   },
   "outputs": [],
   "source": [
    "bar_stats %+% subset(allM, Figure %in% \"Breakdown of OTUs\")+labs(title=\"Distribution of OTUs\",x=\"Samples\", y=\"Total OTUs\")+scale_fill_manual(values=c(\"#e41a1c\",\"#fee08b\",\"#4393c3\"))\n",
    "bar_stats %+% subset(allM, Figure %in% \"Total OTUs\")+labs(title=\"Total number of OTUs\",x=\"Samples\", y=\"Total OTUs\")+scale_fill_manual(values=c(\"darkblue\"))\n",
    "bar_stats %+% subset(allM, Figure %in% \"Sequences\")+labs(title=\"Total number of sequences\",x=\"Samples\", y=\"Total sequences\")+scale_fill_manual(values=c(\"purple\"))"
   ]
  },
  {
   "cell_type": "code",
   "execution_count": null,
   "metadata": {
    "collapsed": true
   },
   "outputs": [],
   "source": [
    "#save(counts_only, count.no1, allM, file=\"Checkpoint1_PrelimFigs.RData\") #Optional save R objects\n",
    "#load(\"Checkpoint1_PrelimFigs.RData\",verbose=T) #Option to load R objects from previous"
   ]
  },
  {
   "cell_type": "markdown",
   "metadata": {},
   "source": [
    "# Option to remove unwanted samples"
   ]
  },
  {
   "cell_type": "code",
   "execution_count": null,
   "metadata": {
    "collapsed": false
   },
   "outputs": [],
   "source": [
    "#Based on the total number of sequences in each sample, I want to only keep samples with more than 50,000 sequences.\n",
    "#Remove Sample 2\n",
    "count.no1$Sample_2<-NULL\n",
    "head(count.no1)"
   ]
  },
  {
   "cell_type": "markdown",
   "metadata": {},
   "source": [
    "# Option to randomly subsample OTU table\n",
    "### so that all samples have the same number of sequences"
   ]
  },
  {
   "cell_type": "code",
   "execution_count": null,
   "metadata": {
    "collapsed": false
   },
   "outputs": [],
   "source": [
    "#Optional code to subsample\n",
    "#Assign row names as OTU IDs\n",
    "row.names(count.no1)<-count.no1$OTU.ID\n",
    "#Isolate only columns with data\n",
    "keep<-count.no1[2:5];head(keep)\n",
    "sub<-min(colSums(keep)); sub #sub =total number of sequences that is fewest among all samples\n",
    "\n",
    "#Requires vegan library\n",
    "rare <- rrarefy(t(keep), sub) #Randomly subsamples data so that all sample have the same number of sequences\n",
    "subsampled<-as.data.frame(t(rare))\n",
    "colSums(subsampled) #all should be equal to sub (in test data, n=99,530)"
   ]
  },
  {
   "cell_type": "markdown",
   "metadata": {},
   "source": [
    "## Basic diversity estimates"
   ]
  },
  {
   "cell_type": "code",
   "execution_count": null,
   "metadata": {
    "collapsed": false
   },
   "outputs": [],
   "source": [
    "#Calculate alpha diversity\n",
    "\n",
    "#diversity measurement that accounts for both abundance and evenness of the species present (both evenness and richness). proportion of species relative to the total multiplied by the ln of the proportion\n",
    "shannon<-diversity(subsampled,index=\"shannon\",2)\n",
    "#evennes in the community\n",
    "invsimp<-diversity(subsampled,index=\"invsimpson\",2)\n",
    "\n",
    "OTU_count<-colSums(subsampled>0) #to evaluate species richness\n",
    "alpha<-data.frame(shannon,invsimp,OTU_count) #combine measurements\n",
    "head(alpha)"
   ]
  },
  {
   "cell_type": "code",
   "execution_count": null,
   "metadata": {
    "collapsed": false
   },
   "outputs": [],
   "source": [
    "alpha$samples<-row.names(alpha)\n",
    "alpha.m<-melt(alpha)\n",
    "head(alpha.m)"
   ]
  },
  {
   "cell_type": "code",
   "execution_count": null,
   "metadata": {
    "collapsed": false
   },
   "outputs": [],
   "source": [
    "ggplot(alpha.m, aes(x=samples, y=value, fill=variable, shape=variable))+geom_point(size=4, aes(color=variable))+facet_grid(variable~.,scales=\"free\")+theme_bw()+theme(axis.text.x = element_text(angle = 90,hjust=1,vjust=0.5,size=8),axis.text.y=element_text(size=12),legend.position = \"top\")"
   ]
  },
  {
   "cell_type": "markdown",
   "metadata": {},
   "source": [
    "# Community composition plot - specific to PR2 db"
   ]
  },
  {
   "cell_type": "code",
   "execution_count": null,
   "metadata": {
    "collapsed": false
   },
   "outputs": [],
   "source": [
    "#head(count.no1) #original data, has OTU and taxonomy information\n",
    "#head(subsampled) #subsampled data for analysis\n",
    "key<-count.no1[c(1,6)] #OTU ID to taxonomy key\n",
    "subsampled$OTU.ID<-row.names(subsampled)"
   ]
  },
  {
   "cell_type": "code",
   "execution_count": null,
   "metadata": {
    "collapsed": false
   },
   "outputs": [],
   "source": [
    "#Get taxonomic information (by OTU.ID) back on subsampled data\n",
    "count.subsampled<-join(subsampled, count.no1[c(1,6)], by=\"OTU.ID\", type=\"left\", match=\"first\")\n",
    "head(count.subsampled); dim(count.subsampled)"
   ]
  },
  {
   "cell_type": "markdown",
   "metadata": {
    "collapsed": true
   },
   "source": [
    "## Parse by taxonomy column"
   ]
  },
  {
   "cell_type": "code",
   "execution_count": null,
   "metadata": {
    "collapsed": false
   },
   "outputs": [],
   "source": [
    "#This is specific to the PR2 database. \n",
    "#Depending on your scientific question, you will need to review the taxonomic grouping\n",
    "#Function, makes a simplifed \"Taxa\" column based on PR2 output\n",
    "\n",
    "pr2_rename_taxa<-function(df){\n",
    "  library(reshape2)\n",
    "  split<-colsplit(df$taxonomy, \"; \", c(\"Level1\",\"Level2\",\"Level3\",\"Level4\",\"Level5\",\"Level6\", \"Level7\",\"Level8\",\"Level9\", \"Level10\", \"Level11\", \"Level12\"))\n",
    "  split[ is.na(split) ] = \"XXX\"\n",
    "  split[ split == \"\" ] = \"XXX\"\n",
    "  split$Taxa<-\"Other/unknown\"\n",
    "  split$Taxa[split$Level1 == \"No blast hit\"]=\"No blast hit\"\n",
    "  split$Taxa[split$Level1 == \"Unassigned\"]=\"Unassigned\"\n",
    "  split$Taxa[split$Level1 == \"None\"]=\"None\"\n",
    "  split$Taxa[split$Level2==\"Amoebozoa\"]=\"Amoebozoa\"\n",
    "  split$Taxa[split$Level2==\"Apusozoa\"]=\"Other/unknown\"\n",
    "  split$Taxa[split$Level2==\"Eukaryota_X\"]=\"Other/unknown\"\n",
    "  split$Taxa[split$Level2==\"Eukaryota_Mikro\"]=\"Other/unknown\"\n",
    "  split$Taxa[split$Level2==\"Stramenopiles\"]=\"Stramenopiles-Other\"\n",
    "  split$Taxa[split$Level2==\"Alveolata\"]=\"Alveolates-Other\"\n",
    "  split$Taxa[split$Level2==\"Opisthokonta\"]=\"Opisthokonts-Other\"\n",
    "  split$Taxa[split$Level2==\"Archaeplastida\"]=\"Archaeplastids-Other\"\n",
    "  split$Taxa[split$Level2==\"Excavata\"]=\"Excavates\"\n",
    "  split$Taxa[split$Level2==\"Rhizaria\"]=\"Rhizaria-Other\"\n",
    "  split$Taxa[split$Level2==\"Hacrobia\"]=\"Other/unknown\"\n",
    "  split$Taxa[split$Level3==\"Haptophyta\"]=\"Haptophytes\"\n",
    "  split$Taxa[split$Level3==\"Fungi\"]=\"Opisthokont-Fungi\"\n",
    "  split$Taxa[split$Level3==\"Metazoa\"]=\"Opisthokont-Metazoa\"\n",
    "  split$Taxa[split$Level3==\"Foraminifera\"]=\"Rhizaria-Foraminifera\"\n",
    "  split$Taxa[split$Level3==\"Dinophyta\"]=\"Alveolates-Dinoflagellates\"\n",
    "  split$Taxa[split$Level4==\"Syndiniales\"]=\"Alveolates-Syndiniales\"\n",
    "  split$Taxa[split$Level3==\"Cryptophyta\"]=\"Cryptophytes\"\n",
    "  split$Taxa[split$Level3==\"Ciliophora\"]=\"Alveolates-Ciliates\"\n",
    "  split$Taxa[split$Level3==\"Chlorophyta\"]=\"Archaeplastids-Chlorophytes\"\n",
    "  split$Taxa[split$Level3==\"Cercozoa\"]=\"Rhizaria-Cercozoa\"\n",
    "  split$Taxa[split$Level4==\"Acantharea\"]=\"Rhizaria-Acantharia\"\n",
    "  split$Taxa[split$Level4==\"Chrysophyceae-Synurophyceae\"]=\"Stramenopiles-Chrysophytes\"\n",
    "  split$Taxa[split$Level4==\"Pelagophyceae\"]=\"Stramenopiles-Pelagophytes\"\n",
    "  split$Taxa[split$Level4==\"Bacillariophyta\"]=\"Stramenopiles-Diatoms\"\n",
    "  split$Taxa[split$Level4==\"MAST\"]=\"Stramenopiles-MAST\"\n",
    "  split$Taxa[split$Level4==\"Polycystinea\"]=\"Rhizaria-Polycystines\"\n",
    "  split$Taxa[split$Level4==\"RAD-C\"]=\"Rhizaria-RAD (A,B,C)\"\n",
    "  split$Taxa[split$Level4==\"RAD-B\"]=\"Rhizaria-RAD (A,B,C)\"\n",
    "  split$Taxa[split$Level4==\"RAD-A\"]=\"Rhizaria-RAD (A,B,C)\"\n",
    "  return(split)\n",
    "} \n",
    "newtax<-pr2_rename_taxa(count.subsampled)\n",
    "unique(newtax$Taxa) #Simplified taxonomic group naming schematic\n",
    "data_binned<-data.frame(count.subsampled, newtax) "
   ]
  },
  {
   "cell_type": "code",
   "execution_count": null,
   "metadata": {
    "collapsed": false
   },
   "outputs": [],
   "source": [
    "data.m<-melt(data_binned) #melt\n",
    "#head(data.m)\n",
    "data.agg<-aggregate(data.m$value, by=list(Taxa=data.m$Taxa,Samples=data.m$variable),sum) #sum sequences by taxonomic group\n",
    "save(data.agg, data.m, data_binned, file=\"Checkpoint2_PrelimFigs.Rdata\")"
   ]
  },
  {
   "cell_type": "markdown",
   "metadata": {},
   "source": [
    "## Set up to plot taxonomic groups"
   ]
  },
  {
   "cell_type": "code",
   "execution_count": null,
   "metadata": {
    "collapsed": false
   },
   "outputs": [],
   "source": [
    "tax_order=c(\"Alveolates-Ciliates\",\"Alveolates-Dinoflagellates\",\"Alveolates-Syndiniales\",\"Alveolates-Other\",\"Archaeplastids-Chlorophytes\",\"Archaeplastids-Other\",\"Cryptophytes\",\"Excavates\",\"Haptophytes\",\"Rhizaria-Acantharia\",\"Rhizaria-Cercozoa\",\"Rhizaria-Polycystines\",\"Rhizaria-RAD (A,B,C)\",\"Stramenopiles-Diatoms\",\"Stramenopiles-Pelagophytes\",\"Stramenopiles-MAST\",\"Stramenopiles-Chrysophytes\",\"Stramenopiles-Other\",\"Opisthokont-Fungi\",\"Opisthokont-Metazoa\",\"Opisthokonts-Other\",\"Other/unknown\",\"Unassigned\")\n",
    "tax_color=c(\"#800026\",\"#cb181d\",\"#e7298a\",\"#df65b0\",\"#fc4e2a\",\"#fd8d3c\",\"#fed976\",\"#c7e9b4\",\"#7fcdbb\",\"#41ae76\",\"#238b45\",\"#006d2c\",\"#00441b\",\"#c6dbef\",\"#6baed6\",\"#1d91c0\",\"#225ea8\",\"#253494\",\"#081d58\",\"#54278f\",\"#8c510a\",\"#bf812d\",\"#dfc27d\")\n",
    "names(tax_color)<-tax_order\n",
    "data.agg$tax<-factor(data.agg$Taxa, levels=rev(tax_order)) #factoring\n",
    "head(data.agg)"
   ]
  },
  {
   "cell_type": "code",
   "execution_count": null,
   "metadata": {
    "collapsed": false
   },
   "outputs": [],
   "source": [
    "#Bar plot of community composition\n",
    "ggplot(data.agg[order(data.agg$tax),], aes(y=x,fill=tax,x=Samples))+geom_bar(position = \"fill\", stat = \"identity\", color=\"black\",aes(fill=tax))+scale_fill_manual(values=tax_color)+labs(title=\"\", x=\"\",y=\"Relative abundance of reads\")+theme_bw()+theme(legend.position=\"right\",axis.text.x = element_text(angle=45, hjust=1,vjust=1,color=\"black\"))\n",
    "#Change position = \"fill\" to position=\"stack\" to look at total abundance"
   ]
  },
  {
   "cell_type": "markdown",
   "metadata": {},
   "source": [
    "# Last updated 06-26-2017 Sarah K. Hu"
   ]
  }
 ],
 "metadata": {
  "kernelspec": {
   "display_name": "R",
   "language": "R",
   "name": "ir"
  },
  "language_info": {
   "codemirror_mode": "r",
   "file_extension": ".r",
   "mimetype": "text/x-r-source",
   "name": "R",
   "pygments_lexer": "r",
   "version": "3.3.2"
  }
 },
 "nbformat": 4,
 "nbformat_minor": 2
}
