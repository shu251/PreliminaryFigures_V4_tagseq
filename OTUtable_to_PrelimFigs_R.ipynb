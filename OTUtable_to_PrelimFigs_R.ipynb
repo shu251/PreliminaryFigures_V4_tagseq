{
 "cells": [
  {
   "cell_type": "markdown",
   "metadata": {},
   "source": [
    "## Take OTU table, QC, generate preliminary figures\n",
    "#### Last updated 05-02-2018 Sarah K. Hu"
   ]
  },
  {
   "cell_type": "code",
   "execution_count": 1,
   "metadata": {},
   "outputs": [
    {
     "ename": "ERROR",
     "evalue": "Error in library(ggplot2): there is no package called ‘ggplot2’\n",
     "output_type": "error",
     "traceback": [
      "Error in library(ggplot2): there is no package called ‘ggplot2’\nTraceback:\n",
      "1. library(ggplot2)",
      "2. stop(txt, domain = NA)"
     ]
    }
   ],
   "source": [
    "#Load required libraries\n",
    "library(reshape2)\n",
    "library(ggplot2)\n",
    "library(vegan)\n",
    "library(plyr)"
   ]
  },
  {
   "cell_type": "code",
   "execution_count": 12,
   "metadata": {},
   "outputs": [
    {
     "data": {
      "text/html": [
       "<table>\n",
       "<thead><tr><th scope=col>OTU.ID</th><th scope=col>Sample_1</th><th scope=col>Sample_2</th><th scope=col>Sample_3</th><th scope=col>Sample_4</th><th scope=col>Sample_5</th><th scope=col>taxonomy</th></tr></thead>\n",
       "<tbody>\n",
       "\t<tr><td>AB353770.1.1740_U                                                                                                                          </td><td> 1                                                                                                                                         </td><td>0                                                                                                                                          </td><td> 0                                                                                                                                         </td><td> 0                                                                                                                                         </td><td>  0                                                                                                                                        </td><td>Eukaryota; Alveolata; Dinophyta; Dinophyceae; Dinophyceae_X; Dinophyceae_XX; Peridiniopsis; Peridiniopsis+kevei                            </td></tr>\n",
       "\t<tr><td>KF130109.1.1755_U                                                                                                                          </td><td> 0                                                                                                                                         </td><td>5                                                                                                                                          </td><td> 2                                                                                                                                         </td><td>79                                                                                                                                         </td><td>  2                                                                                                                                        </td><td>Eukaryota; Alveolata; Dinophyta; Syndiniales; Dino-Group-II; Dino-Group-II-Clade-14; Dino-Group-II-Clade-14_X; Dino-Group-II-Clade-14_X+sp.</td></tr>\n",
       "\t<tr><td>AB284159.1.1765_U                                                                                                                          </td><td> 0                                                                                                                                         </td><td>8                                                                                                                                          </td><td> 4                                                                                                                                         </td><td>67                                                                                                                                         </td><td> 16                                                                                                                                        </td><td>Eukaryota; Alveolata; Dinophyta; Dinophyceae; Dinophyceae_X; Dinophyceae_XX; Protoperidinium; Protoperidinium+bipes                        </td></tr>\n",
       "\t<tr><td>AY256316.1.1219_U                                                                                                                          </td><td> 0                                                                                                                                         </td><td>0                                                                                                                                          </td><td> 1                                                                                                                                         </td><td> 2                                                                                                                                         </td><td>  4                                                                                                                                        </td><td>Eukaryota; Stramenopiles; Ochrophyta; Bacillariophyta; Bacillariophyta_X; Raphid-pennate; Raphid-pennate_X; Raphid-pennate_X+sp.           </td></tr>\n",
       "\t<tr><td>AM235536.1.1627_U                                                                                                                          </td><td> 0                                                                                                                                         </td><td>0                                                                                                                                          </td><td> 0                                                                                                                                         </td><td> 0                                                                                                                                         </td><td>  0                                                                                                                                        </td><td>Eukaryota; Archaeplastida; Streptophyta; Embryophyceae; Embryophyceae_X; Embryophyceae_XX; Uromyrtus; Uromyrtus+metrosideros               </td></tr>\n",
       "\t<tr><td>EU087259.1.908_U                                                                                                                           </td><td>15                                                                                                                                         </td><td>0                                                                                                                                          </td><td>64                                                                                                                                         </td><td> 6                                                                                                                                         </td><td>319                                                                                                                                        </td><td>Eukaryota; Rhizaria; Cercozoa; Filosa-Thecofilosea; Ebriida; TAGIRI1-lineage; TAGIRI1-lineage_X; TAGIRI1-lineage_X+sp.                     </td></tr>\n",
       "</tbody>\n",
       "</table>\n"
      ],
      "text/latex": [
       "\\begin{tabular}{r|lllllll}\n",
       " OTU.ID & Sample\\_1 & Sample\\_2 & Sample\\_3 & Sample\\_4 & Sample\\_5 & taxonomy\\\\\n",
       "\\hline\n",
       "\t AB353770.1.1740\\_U                                                                                                                             &  1                                                                                                                                              & 0                                                                                                                                               &  0                                                                                                                                              &  0                                                                                                                                              &   0                                                                                                                                             & Eukaryota; Alveolata; Dinophyta; Dinophyceae; Dinophyceae\\_X; Dinophyceae\\_XX; Peridiniopsis; Peridiniopsis+kevei                            \\\\\n",
       "\t KF130109.1.1755\\_U                                                                                                                             &  0                                                                                                                                              & 5                                                                                                                                               &  2                                                                                                                                              & 79                                                                                                                                              &   2                                                                                                                                             & Eukaryota; Alveolata; Dinophyta; Syndiniales; Dino-Group-II; Dino-Group-II-Clade-14; Dino-Group-II-Clade-14\\_X; Dino-Group-II-Clade-14\\_X+sp.\\\\\n",
       "\t AB284159.1.1765\\_U                                                                                                                             &  0                                                                                                                                              & 8                                                                                                                                               &  4                                                                                                                                              & 67                                                                                                                                              &  16                                                                                                                                             & Eukaryota; Alveolata; Dinophyta; Dinophyceae; Dinophyceae\\_X; Dinophyceae\\_XX; Protoperidinium; Protoperidinium+bipes                        \\\\\n",
       "\t AY256316.1.1219\\_U                                                                                                                               &  0                                                                                                                                                & 0                                                                                                                                                 &  1                                                                                                                                                &  2                                                                                                                                                &   4                                                                                                                                               & Eukaryota; Stramenopiles; Ochrophyta; Bacillariophyta; Bacillariophyta\\_X; Raphid-pennate; Raphid-pennate\\_X; Raphid-pennate\\_X+sp.           \\\\\n",
       "\t AM235536.1.1627\\_U                                                                                                                             &  0                                                                                                                                              & 0                                                                                                                                               &  0                                                                                                                                              &  0                                                                                                                                              &   0                                                                                                                                             & Eukaryota; Archaeplastida; Streptophyta; Embryophyceae; Embryophyceae\\_X; Embryophyceae\\_XX; Uromyrtus; Uromyrtus+metrosideros               \\\\\n",
       "\t EU087259.1.908\\_U                                                                                                                              & 15                                                                                                                                              & 0                                                                                                                                               & 64                                                                                                                                              &  6                                                                                                                                              & 319                                                                                                                                             & Eukaryota; Rhizaria; Cercozoa; Filosa-Thecofilosea; Ebriida; TAGIRI1-lineage; TAGIRI1-lineage\\_X; TAGIRI1-lineage\\_X+sp.                     \\\\\n",
       "\\end{tabular}\n"
      ],
      "text/markdown": [
       "\n",
       "OTU.ID | Sample_1 | Sample_2 | Sample_3 | Sample_4 | Sample_5 | taxonomy | \n",
       "|---|---|---|---|---|---|\n",
       "| AB353770.1.1740_U                                                                                                                           |  1                                                                                                                                          | 0                                                                                                                                           |  0                                                                                                                                          |  0                                                                                                                                          |   0                                                                                                                                         | Eukaryota; Alveolata; Dinophyta; Dinophyceae; Dinophyceae_X; Dinophyceae_XX; Peridiniopsis; Peridiniopsis+kevei                             | \n",
       "| KF130109.1.1755_U                                                                                                                           |  0                                                                                                                                          | 5                                                                                                                                           |  2                                                                                                                                          | 79                                                                                                                                          |   2                                                                                                                                         | Eukaryota; Alveolata; Dinophyta; Syndiniales; Dino-Group-II; Dino-Group-II-Clade-14; Dino-Group-II-Clade-14_X; Dino-Group-II-Clade-14_X+sp. | \n",
       "| AB284159.1.1765_U                                                                                                                           |  0                                                                                                                                          | 8                                                                                                                                           |  4                                                                                                                                          | 67                                                                                                                                          |  16                                                                                                                                         | Eukaryota; Alveolata; Dinophyta; Dinophyceae; Dinophyceae_X; Dinophyceae_XX; Protoperidinium; Protoperidinium+bipes                         | \n",
       "| AY256316.1.1219_U                                                                                                                           |  0                                                                                                                                          | 0                                                                                                                                           |  1                                                                                                                                          |  2                                                                                                                                          |   4                                                                                                                                         | Eukaryota; Stramenopiles; Ochrophyta; Bacillariophyta; Bacillariophyta_X; Raphid-pennate; Raphid-pennate_X; Raphid-pennate_X+sp.            | \n",
       "| AM235536.1.1627_U                                                                                                                           |  0                                                                                                                                          | 0                                                                                                                                           |  0                                                                                                                                          |  0                                                                                                                                          |   0                                                                                                                                         | Eukaryota; Archaeplastida; Streptophyta; Embryophyceae; Embryophyceae_X; Embryophyceae_XX; Uromyrtus; Uromyrtus+metrosideros                | \n",
       "| EU087259.1.908_U                                                                                                                            | 15                                                                                                                                          | 0                                                                                                                                           | 64                                                                                                                                          |  6                                                                                                                                          | 319                                                                                                                                         | Eukaryota; Rhizaria; Cercozoa; Filosa-Thecofilosea; Ebriida; TAGIRI1-lineage; TAGIRI1-lineage_X; TAGIRI1-lineage_X+sp.                      | \n",
       "\n",
       "\n"
      ],
      "text/plain": [
       "  OTU.ID            Sample_1 Sample_2 Sample_3 Sample_4 Sample_5\n",
       "1 AB353770.1.1740_U  1       0         0        0         0     \n",
       "2 KF130109.1.1755_U  0       5         2       79         2     \n",
       "3 AB284159.1.1765_U  0       8         4       67        16     \n",
       "4 AY256316.1.1219_U  0       0         1        2         4     \n",
       "5 AM235536.1.1627_U  0       0         0        0         0     \n",
       "6 EU087259.1.908_U  15       0        64        6       319     \n",
       "  taxonomy                                                                                                                                   \n",
       "1 Eukaryota; Alveolata; Dinophyta; Dinophyceae; Dinophyceae_X; Dinophyceae_XX; Peridiniopsis; Peridiniopsis+kevei                            \n",
       "2 Eukaryota; Alveolata; Dinophyta; Syndiniales; Dino-Group-II; Dino-Group-II-Clade-14; Dino-Group-II-Clade-14_X; Dino-Group-II-Clade-14_X+sp.\n",
       "3 Eukaryota; Alveolata; Dinophyta; Dinophyceae; Dinophyceae_X; Dinophyceae_XX; Protoperidinium; Protoperidinium+bipes                        \n",
       "4 Eukaryota; Stramenopiles; Ochrophyta; Bacillariophyta; Bacillariophyta_X; Raphid-pennate; Raphid-pennate_X; Raphid-pennate_X+sp.           \n",
       "5 Eukaryota; Archaeplastida; Streptophyta; Embryophyceae; Embryophyceae_X; Embryophyceae_XX; Uromyrtus; Uromyrtus+metrosideros               \n",
       "6 Eukaryota; Rhizaria; Cercozoa; Filosa-Thecofilosea; Ebriida; TAGIRI1-lineage; TAGIRI1-lineage_X; TAGIRI1-lineage_X+sp.                     "
      ]
     },
     "metadata": {},
     "output_type": "display_data"
    },
    {
     "data": {
      "text/html": [
       "<ol class=list-inline>\n",
       "\t<li>6138</li>\n",
       "\t<li>7</li>\n",
       "</ol>\n"
      ],
      "text/latex": [
       "\\begin{enumerate*}\n",
       "\\item 6138\n",
       "\\item 7\n",
       "\\end{enumerate*}\n"
      ],
      "text/markdown": [
       "1. 6138\n",
       "2. 7\n",
       "\n",
       "\n"
      ],
      "text/plain": [
       "[1] 6138    7"
      ]
     },
     "metadata": {},
     "output_type": "display_data"
    }
   ],
   "source": [
    "#Import OTU table\n",
    "count<-read.table('V4_OTUtable_test.txt', sep=\"\\t\",header=TRUE, skip=1, comment.char = \"\")\n",
    "# quick view:\n",
    "colnames(count)[1]<-\"OTU.ID\"\n",
    "head(count) #make sure samples are column names and OTU.IDs (from PR2) are row names\n",
    "dim(count) #V4_OTUtable_test.txt should be 6138 rows and 7 columns\n"
   ]
  },
  {
   "cell_type": "code",
   "execution_count": 15,
   "metadata": {},
   "outputs": [
    {
     "data": {
      "text/html": [
       "6138"
      ],
      "text/latex": [
       "6138"
      ],
      "text/markdown": [
       "6138"
      ],
      "text/plain": [
       "[1] 6138"
      ]
     },
     "metadata": {},
     "output_type": "display_data"
    },
    {
     "data": {
      "text/html": [
       "<dl class=dl-horizontal>\n",
       "\t<dt>Sample_1</dt>\n",
       "\t\t<dd>377016</dd>\n",
       "\t<dt>Sample_2</dt>\n",
       "\t\t<dd>75021</dd>\n",
       "\t<dt>Sample_3</dt>\n",
       "\t\t<dd>99619</dd>\n",
       "\t<dt>Sample_4</dt>\n",
       "\t\t<dd>395592</dd>\n",
       "\t<dt>Sample_5</dt>\n",
       "\t\t<dd>349361</dd>\n",
       "</dl>\n"
      ],
      "text/latex": [
       "\\begin{description*}\n",
       "\\item[Sample\\textbackslash{}\\_1] 377016\n",
       "\\item[Sample\\textbackslash{}\\_2] 75021\n",
       "\\item[Sample\\textbackslash{}\\_3] 99619\n",
       "\\item[Sample\\textbackslash{}\\_4] 395592\n",
       "\\item[Sample\\textbackslash{}\\_5] 349361\n",
       "\\end{description*}\n"
      ],
      "text/markdown": [
       "Sample_1\n",
       ":   377016Sample_2\n",
       ":   75021Sample_3\n",
       ":   99619Sample_4\n",
       ":   395592Sample_5\n",
       ":   349361\n",
       "\n"
      ],
      "text/plain": [
       "Sample_1 Sample_2 Sample_3 Sample_4 Sample_5 \n",
       "  377016    75021    99619   395592   349361 "
      ]
     },
     "metadata": {},
     "output_type": "display_data"
    }
   ],
   "source": [
    "##Get quick stats of OTU results\n",
    "length(count$OTU.ID) #Total number of OTUs generated\n",
    "colsum<-apply(count[2:6],2,sum) #Colums 2:5 are my sample colums\n",
    "colsum #number of sequences per sample"
   ]
  },
  {
   "cell_type": "code",
   "execution_count": 16,
   "metadata": {},
   "outputs": [
    {
     "data": {
      "text/html": [
       "2633"
      ],
      "text/latex": [
       "2633"
      ],
      "text/markdown": [
       "2633"
      ],
      "text/plain": [
       "[1] 2633"
      ]
     },
     "metadata": {},
     "output_type": "display_data"
    }
   ],
   "source": [
    "##Filter out OTUs with only 1 sequence, singletons\n",
    "rowsum<-apply(count[2:6],1,sum) #remove global singletons.\n",
    "count.no1 = count[ rowsum>1, ]  #count.no1 = OTU table without global singletons\n",
    "dim(count)[1] - dim(count.no1)[1] #Outputs the number of OTUs (total) lost in this step"
   ]
  },
  {
   "cell_type": "markdown",
   "metadata": {},
   "source": [
    "## Barplot distribution of OTU size per sample"
   ]
  },
  {
   "cell_type": "code",
   "execution_count": 17,
   "metadata": {},
   "outputs": [
    {
     "data": {
      "text/html": [
       "<table>\n",
       "<thead><tr><th></th><th scope=col>seq_total</th><th scope=col>OTU_count</th><th scope=col>OTU_single</th><th scope=col>OTU_double</th><th scope=col>OTU_else</th></tr></thead>\n",
       "<tbody>\n",
       "\t<tr><th scope=row>Sample_1</th><td>376657</td><td>2429  </td><td>282   </td><td>330   </td><td>1817  </td></tr>\n",
       "\t<tr><th scope=row>Sample_2</th><td> 74972</td><td>1177  </td><td>322   </td><td>164   </td><td> 691  </td></tr>\n",
       "\t<tr><th scope=row>Sample_3</th><td> 99530</td><td>1497  </td><td>367   </td><td>217   </td><td> 913  </td></tr>\n",
       "\t<tr><th scope=row>Sample_4</th><td>395353</td><td>1925  </td><td>311   </td><td>275   </td><td>1339  </td></tr>\n",
       "\t<tr><th scope=row>Sample_5</th><td>349093</td><td>2202  </td><td>377   </td><td>312   </td><td>1513  </td></tr>\n",
       "</tbody>\n",
       "</table>\n"
      ],
      "text/latex": [
       "\\begin{tabular}{r|lllll}\n",
       "  & seq\\_total & OTU\\_count & OTU\\_single & OTU\\_double & OTU\\_else\\\\\n",
       "\\hline\n",
       "\tSample\\_1 & 376657 & 2429   & 282    & 330    & 1817  \\\\\n",
       "\tSample\\_2 &  74972 & 1177   & 322    & 164    &  691  \\\\\n",
       "\tSample\\_3 &  99530 & 1497   & 367    & 217    &  913  \\\\\n",
       "\tSample\\_4 & 395353 & 1925   & 311    & 275    & 1339  \\\\\n",
       "\tSample\\_5 & 349093 & 2202   & 377    & 312    & 1513  \\\\\n",
       "\\end{tabular}\n"
      ],
      "text/markdown": [
       "\n",
       "| <!--/--> | seq_total | OTU_count | OTU_single | OTU_double | OTU_else | \n",
       "|---|---|---|---|---|\n",
       "| Sample_1 | 376657 | 2429   | 282    | 330    | 1817   | \n",
       "| Sample_2 |  74972 | 1177   | 322    | 164    |  691   | \n",
       "| Sample_3 |  99530 | 1497   | 367    | 217    |  913   | \n",
       "| Sample_4 | 395353 | 1925   | 311    | 275    | 1339   | \n",
       "| Sample_5 | 349093 | 2202   | 377    | 312    | 1513   | \n",
       "\n",
       "\n"
      ],
      "text/plain": [
       "         seq_total OTU_count OTU_single OTU_double OTU_else\n",
       "Sample_1 376657    2429      282        330        1817    \n",
       "Sample_2  74972    1177      322        164         691    \n",
       "Sample_3  99530    1497      367        217         913    \n",
       "Sample_4 395353    1925      311        275        1339    \n",
       "Sample_5 349093    2202      377        312        1513    "
      ]
     },
     "metadata": {},
     "output_type": "display_data"
    }
   ],
   "source": [
    "#Isolate only count colums\n",
    "counts_only<-count.no1[2:6]\n",
    "seq_total<-apply(counts_only,2,sum) #number of sequences per sample\n",
    "OTU_count<-colSums(counts_only>0) #total number of OTUs\n",
    "OTU_single<-colSums(counts_only==1) #Number of singleton OTUs\n",
    "OTU_double<-colSums(counts_only==2) #Number of doubleton OTUs\n",
    "OTU_else<-colSums(counts_only>2) #Number of OTUs with more than 2 sequences\n",
    "\n",
    "sample_info<-data.frame(seq_total,OTU_count,OTU_single,OTU_double,OTU_else)# Compile\n",
    "head(sample_info) #dataframe with OTU stats per sample\n",
    "# write.csv(sample_info, file=\"OTUstats.csv\") #Option to write out to table"
   ]
  },
  {
   "cell_type": "code",
   "execution_count": 11,
   "metadata": {},
   "outputs": [
    {
     "name": "stderr",
     "output_type": "stream",
     "text": [
      "Using samples as id variables\n"
     ]
    }
   ],
   "source": [
    "#Plot it\n",
    "sample_info$samples<-row.names(sample_info)\n",
    "allM<-melt(sample_info) #Melt to long format\n",
    "allM$Figure<-\"Sequences\"\n",
    "allM$Figure[allM$variable == \"OTU_count\"]<-\"Total OTUs\"\n",
    "otudist<-c(\"OTU_single\", \"OTU_double\", \"OTU_else\")\n",
    "allM$Figure[allM$variable %in% otudist]<-\"Breakdown of OTUs\"\n",
    "#head(allM)\n"
   ]
  },
  {
   "cell_type": "code",
   "execution_count": null,
   "metadata": {},
   "outputs": [],
   "source": [
    "#Basic bar plot\n",
    "bar_stats<- ggplot(allM, aes(x=samples, y=value, fill=variable))+geom_bar(stat=\"identity\",position=\"stack\",color=\"black\")+theme_bw()+theme(axis.text.x = element_text(angle = 90,hjust=1,vjust=0.5,size=8),axis.text.y=element_text(size=12),legend.position = \"top\")"
   ]
  },
  {
   "cell_type": "code",
   "execution_count": null,
   "metadata": {},
   "outputs": [],
   "source": [
    "bar_stats %+% subset(allM, Figure %in% \"Breakdown of OTUs\")+labs(title=\"Distribution of OTUs\",x=\"Samples\", y=\"Total OTUs\")+scale_fill_manual(values=c(\"#e41a1c\",\"#fee08b\",\"#4393c3\"))\n",
    "bar_stats %+% subset(allM, Figure %in% \"Total OTUs\")+labs(title=\"Total number of OTUs\",x=\"Samples\", y=\"Total OTUs\")+scale_fill_manual(values=c(\"darkblue\"))\n",
    "bar_stats %+% subset(allM, Figure %in% \"Sequences\")+labs(title=\"Total number of sequences\",x=\"Samples\", y=\"Total sequences\")+scale_fill_manual(values=c(\"purple\"))"
   ]
  },
  {
   "cell_type": "code",
   "execution_count": null,
   "metadata": {
    "collapsed": true
   },
   "outputs": [],
   "source": [
    "#save(counts_only, count.no1, allM, file=\"Checkpoint1_PrelimFigs.RData\") #Optional save R objects\n",
    "#load(\"Checkpoint1_PrelimFigs.RData\",verbose=T) #Option to load R objects from previous"
   ]
  },
  {
   "cell_type": "markdown",
   "metadata": {},
   "source": [
    "# Option to remove unwanted samples"
   ]
  },
  {
   "cell_type": "code",
   "execution_count": null,
   "metadata": {},
   "outputs": [],
   "source": [
    "#Based on the total number of sequences in each sample.\n",
    "count.no1$Sample_2<-NULL\n",
    "head(count.no1)"
   ]
  },
  {
   "cell_type": "markdown",
   "metadata": {},
   "source": [
    "# Option to randomly subsample OTU table\n",
    "### so that all samples have the same number of sequences"
   ]
  },
  {
   "cell_type": "code",
   "execution_count": null,
   "metadata": {},
   "outputs": [],
   "source": [
    "#Optional code to subsample\n",
    "#Assign row names as OTU IDs\n",
    "row.names(count.no1)<-count.no1$OTU.ID\n",
    "#Isolate only columns with data\n",
    "keep<-count.no1[2:5];head(keep)\n",
    "sub<-min(colSums(keep)); sub #sub =total number of sequences that is fewest among all samples\n",
    "\n",
    "#Requires vegan library\n",
    "rare <- rrarefy(t(keep), sub) #Randomly subsamples data so that all sample have the same number of sequences\n",
    "subsampled<-as.data.frame(t(rare))\n",
    "colSums(subsampled) #all should be equal to sub (in test data, n=99,530)"
   ]
  },
  {
   "cell_type": "markdown",
   "metadata": {},
   "source": [
    "## Basic diversity estimates"
   ]
  },
  {
   "cell_type": "code",
   "execution_count": null,
   "metadata": {},
   "outputs": [],
   "source": [
    "#Calculate alpha diversity\n",
    "\n",
    "#diversity measurement that accounts for both abundance and evenness of the species present (both evenness and richness). proportion of species relative to the total multiplied by the ln of the proportion\n",
    "shannon<-diversity(subsampled,index=\"shannon\",2)\n",
    "#evennes in the community\n",
    "invsimp<-diversity(subsampled,index=\"invsimpson\",2)\n",
    "\n",
    "OTU_count<-colSums(subsampled>0) #to evaluate species richness\n",
    "alpha<-data.frame(shannon,invsimp,OTU_count) #combine measurements\n",
    "head(alpha)"
   ]
  },
  {
   "cell_type": "code",
   "execution_count": null,
   "metadata": {},
   "outputs": [],
   "source": [
    "alpha$samples<-row.names(alpha)\n",
    "alpha.m<-melt(alpha)\n",
    "head(alpha.m)"
   ]
  },
  {
   "cell_type": "code",
   "execution_count": null,
   "metadata": {},
   "outputs": [],
   "source": [
    "ggplot(alpha.m, aes(x=samples, y=value, fill=variable, shape=variable))+geom_point(size=4, aes(color=variable))+facet_grid(variable~.,scales=\"free\")+theme_bw()+theme(axis.text.x = element_text(angle = 90,hjust=1,vjust=0.5,size=8),axis.text.y=element_text(size=12),legend.position = \"top\")"
   ]
  },
  {
   "cell_type": "markdown",
   "metadata": {},
   "source": [
    "# Community composition plot - specific to PR2 db"
   ]
  },
  {
   "cell_type": "code",
   "execution_count": null,
   "metadata": {},
   "outputs": [],
   "source": [
    "#head(count.no1) #original data, has OTU and taxonomy information\n",
    "#head(subsampled) #subsampled data for analysis\n",
    "key<-count.no1[c(1,6)] #OTU ID to taxonomy key\n",
    "subsampled$OTU.ID<-row.names(subsampled)"
   ]
  },
  {
   "cell_type": "code",
   "execution_count": null,
   "metadata": {},
   "outputs": [],
   "source": [
    "#Get taxonomic information (by OTU.ID) back on subsampled data\n",
    "count.subsampled<-join(subsampled, count.no1[c(1,6)], by=\"OTU.ID\", type=\"left\", match=\"first\")\n",
    "head(count.subsampled); dim(count.subsampled)"
   ]
  },
  {
   "cell_type": "markdown",
   "metadata": {
    "collapsed": true
   },
   "source": [
    "## Parse by taxonomy column"
   ]
  },
  {
   "cell_type": "code",
   "execution_count": null,
   "metadata": {},
   "outputs": [],
   "source": [
    "#This is specific to the PR2 database. \n",
    "#Depending on your scientific question, you will need to review the taxonomic grouping\n",
    "#Function, makes a simplifed \"Taxa\" column based on PR2 output\n",
    "\n",
    "pr2_rename_taxa<-function(df){\n",
    "  library(reshape2)\n",
    "  split<-colsplit(df$taxonomy, \"; \", c(\"Level1\",\"Level2\",\"Level3\",\"Level4\",\"Level5\",\"Level6\", \"Level7\",\"Level8\",\"Level9\", \"Level10\", \"Level11\", \"Level12\"))\n",
    "  split[ is.na(split) ] = \"XXX\"\n",
    "  split[ split == \"\" ] = \"XXX\"\n",
    "  split$Taxa<-\"Other/unknown\"\n",
    "  split$Taxa[split$Level1 == \"No blast hit\"]=\"No blast hit\"\n",
    "  split$Taxa[split$Level1 == \"Unassigned\"]=\"Unassigned\"\n",
    "  split$Taxa[split$Level1 == \"None\"]=\"None\"\n",
    "  split$Taxa[split$Level2==\"Amoebozoa\"]=\"Amoebozoa\"\n",
    "  split$Taxa[split$Level2==\"Apusozoa\"]=\"Other/unknown\"\n",
    "  split$Taxa[split$Level2==\"Eukaryota_X\"]=\"Other/unknown\"\n",
    "  split$Taxa[split$Level2==\"Eukaryota_Mikro\"]=\"Other/unknown\"\n",
    "  split$Taxa[split$Level2==\"Stramenopiles\"]=\"Stramenopiles-Other\"\n",
    "  split$Taxa[split$Level2==\"Alveolata\"]=\"Alveolates-Other\"\n",
    "  split$Taxa[split$Level2==\"Opisthokonta\"]=\"Opisthokonts-Other\"\n",
    "  split$Taxa[split$Level2==\"Archaeplastida\"]=\"Archaeplastids-Other\"\n",
    "  split$Taxa[split$Level2==\"Excavata\"]=\"Excavates\"\n",
    "  split$Taxa[split$Level2==\"Rhizaria\"]=\"Rhizaria-Other\"\n",
    "  split$Taxa[split$Level2==\"Hacrobia\"]=\"Other/unknown\"\n",
    "  split$Taxa[split$Level3==\"Haptophyta\"]=\"Haptophytes\"\n",
    "  split$Taxa[split$Level3==\"Fungi\"]=\"Opisthokont-Fungi\"\n",
    "  split$Taxa[split$Level3==\"Metazoa\"]=\"Opisthokont-Metazoa\"\n",
    "  split$Taxa[split$Level3==\"Foraminifera\"]=\"Rhizaria-Foraminifera\"\n",
    "  split$Taxa[split$Level3==\"Dinophyta\"]=\"Alveolates-Dinoflagellates\"\n",
    "  split$Taxa[split$Level4==\"Syndiniales\"]=\"Alveolates-Syndiniales\"\n",
    "  split$Taxa[split$Level3==\"Cryptophyta\"]=\"Cryptophytes\"\n",
    "  split$Taxa[split$Level3==\"Ciliophora\"]=\"Alveolates-Ciliates\"\n",
    "  split$Taxa[split$Level3==\"Chlorophyta\"]=\"Archaeplastids-Chlorophytes\"\n",
    "  split$Taxa[split$Level3==\"Cercozoa\"]=\"Rhizaria-Cercozoa\"\n",
    "  split$Taxa[split$Level4==\"Acantharea\"]=\"Rhizaria-Acantharia\"\n",
    "  split$Taxa[split$Level4==\"Chrysophyceae-Synurophyceae\"]=\"Stramenopiles-Chrysophytes\"\n",
    "  split$Taxa[split$Level4==\"Pelagophyceae\"]=\"Stramenopiles-Pelagophytes\"\n",
    "  split$Taxa[split$Level4==\"Bacillariophyta\"]=\"Stramenopiles-Diatoms\"\n",
    "  split$Taxa[split$Level4==\"MAST\"]=\"Stramenopiles-MAST\"\n",
    "  split$Taxa[split$Level4==\"Polycystinea\"]=\"Rhizaria-Polycystines\"\n",
    "  split$Taxa[split$Level4==\"RAD-C\"]=\"Rhizaria-RAD (A,B,C)\"\n",
    "  split$Taxa[split$Level4==\"RAD-B\"]=\"Rhizaria-RAD (A,B,C)\"\n",
    "  split$Taxa[split$Level4==\"RAD-A\"]=\"Rhizaria-RAD (A,B,C)\"\n",
    "  return(split)\n",
    "} \n",
    "newtax<-pr2_rename_taxa(count.subsampled)\n",
    "unique(newtax$Taxa) #Simplified taxonomic group naming schematic\n",
    "data_binned<-data.frame(count.subsampled, newtax) "
   ]
  },
  {
   "cell_type": "code",
   "execution_count": null,
   "metadata": {},
   "outputs": [],
   "source": [
    "data.m<-melt(data_binned) #melt\n",
    "#head(data.m)\n",
    "data.agg<-aggregate(data.m$value, by=list(Taxa=data.m$Taxa,Samples=data.m$variable),sum) #sum sequences by taxonomic group\n",
    "save(data.agg, data.m, data_binned, file=\"Checkpoint2_PrelimFigs.Rdata\")"
   ]
  },
  {
   "cell_type": "markdown",
   "metadata": {},
   "source": [
    "## Set up to plot taxonomic groups"
   ]
  },
  {
   "cell_type": "code",
   "execution_count": null,
   "metadata": {},
   "outputs": [],
   "source": [
    "tax_order=c(\"Alveolates-Ciliates\",\"Alveolates-Dinoflagellates\",\"Alveolates-Syndiniales\",\"Alveolates-Other\",\"Archaeplastids-Chlorophytes\",\"Archaeplastids-Other\",\"Cryptophytes\",\"Excavates\",\"Haptophytes\",\"Rhizaria-Acantharia\",\"Rhizaria-Cercozoa\",\"Rhizaria-Polycystines\",\"Rhizaria-RAD (A,B,C)\",\"Stramenopiles-Diatoms\",\"Stramenopiles-Pelagophytes\",\"Stramenopiles-MAST\",\"Stramenopiles-Chrysophytes\",\"Stramenopiles-Other\",\"Opisthokont-Fungi\",\"Opisthokont-Metazoa\",\"Opisthokonts-Other\",\"Other/unknown\",\"Unassigned\")\n",
    "tax_color=c(\"#800026\",\"#cb181d\",\"#e7298a\",\"#df65b0\",\"#fc4e2a\",\"#fd8d3c\",\"#fed976\",\"#c7e9b4\",\"#7fcdbb\",\"#41ae76\",\"#238b45\",\"#006d2c\",\"#00441b\",\"#c6dbef\",\"#6baed6\",\"#1d91c0\",\"#225ea8\",\"#253494\",\"#081d58\",\"#54278f\",\"#8c510a\",\"#bf812d\",\"#dfc27d\")\n",
    "names(tax_color)<-tax_order\n",
    "data.agg$tax<-factor(data.agg$Taxa, levels=rev(tax_order)) #factoring\n",
    "head(data.agg)"
   ]
  },
  {
   "cell_type": "code",
   "execution_count": null,
   "metadata": {},
   "outputs": [],
   "source": [
    "#Bar plot of community composition\n",
    "ggplot(data.agg[order(data.agg$tax),], aes(y=x,fill=tax,x=Samples))+geom_bar(position = \"fill\", stat = \"identity\", color=\"black\",aes(fill=tax))+scale_fill_manual(values=tax_color)+labs(title=\"\", x=\"\",y=\"Relative abundance of reads\")+theme_bw()+theme(legend.position=\"right\",axis.text.x = element_text(angle=45, hjust=1,vjust=1,color=\"black\"))\n",
    "#Change position = \"fill\" to position=\"stack\" to look at total abundance"
   ]
  },
  {
   "cell_type": "markdown",
   "metadata": {},
   "source": [
    "# Last updated 05-02-2018 Sarah K. Hu"
   ]
  }
 ],
 "metadata": {
  "kernelspec": {
   "display_name": "R",
   "language": "R",
   "name": "ir"
  },
  "language_info": {
   "codemirror_mode": "r",
   "file_extension": ".r",
   "mimetype": "text/x-r-source",
   "name": "R",
   "pygments_lexer": "r",
   "version": "3.4.2"
  }
 },
 "nbformat": 4,
 "nbformat_minor": 2
}
